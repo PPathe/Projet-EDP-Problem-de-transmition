{
 "cells": [
  {
   "cell_type": "markdown",
   "metadata": {
    "nbgrader": {
     "grade": false,
     "grade_id": "cell-49c5f4f2a09b6c76",
     "locked": true,
     "schema_version": 1,
     "solution": false
    }
   },
   "source": [
    "# Projet : Partie 2/2\n",
    "\n",
    "Considérons le problème elliptique suivant : nous cherchons une fonction $u:[0,1]\\to\\mathbb{R}$ qui vérifie le problème\n",
    "\\begin{equation}\n",
    "\\left\\lbrace\n",
    "\\begin{aligned}\n",
    "-(a(x)*u'(x))' = f(x),&&0<x<1,\\\\\n",
    "u(0)=u(1)=0\n",
    "\\end{aligned}\n",
    "\\right.\n",
    "\\end{equation}\n",
    "\n",
    "\n",
    "\n",
    "\n",
    "où $f:[0,1]\\to\\mathbb{R}$ est une fonction régulière (par exemple continue) et :\n",
    "$$a(x)=\\begin{equation}\n",
    "\\left\\lbrace\n",
    "\\begin{aligned}\n",
    "a_L, &&0<x<x_0,\\\\\n",
    "a_R, &&x_0<x<1,\n",
    "\\end{aligned}\n",
    "\\right.\n",
    "\\end{equation}$$\n",
    "\n",
    "Résoudre ce problème est equivalent à résoudre les deux problèmes suivant :\n",
    "\\begin{equation}\n",
    "\\left\\lbrace\n",
    "\\begin{aligned}\n",
    "-a_L * u_1''(x) = f(x),&&0<x<x_0,\\\\\n",
    "u(0)=0,  \\\\\n",
    "u(x_0) =u_0\n",
    "\\end{aligned}\n",
    "\\right.\n",
    "\\end{equation}\n",
    "et\n",
    "\\begin{equation}\n",
    "\\left\\lbrace\n",
    "\\begin{aligned}\n",
    "-a_R * u_2''(x) = f(x),&&x_0<x<1,\\\\\n",
    "u(x_0)=u_0,  \\\\\n",
    "u(1) =0\n",
    "\\end{aligned}\n",
    "\\right.\n",
    "\\end{equation}\n",
    "tel que :$$a_R*u_2'(x_0^+)=a_L*u_1'(x_0^-)$$\n",
    "\n"
   ]
  },
  {
   "cell_type": "code",
   "execution_count": 1,
   "metadata": {},
   "outputs": [],
   "source": [
    "#include <iostream>\n",
    "#include <vector>\n",
    "#include <stdexcept>\n",
    "\n",
    "#include \"xplot/xfigure.hpp\"\n",
    "#include \"xplot/xmarks.hpp\"\n",
    "#include \"xplot/xaxes.hpp\"\n",
    "\n",
    "#include \"mesh1D.hpp\"\n",
    "#include \"solution1D.hpp\"\n",
    "#include \"matrix.hpp\"\n",
    "#include \"lu.hpp\""
   ]
  },
  {
   "cell_type": "markdown",
   "metadata": {
    "nbgrader": {
     "grade": false,
     "grade_id": "cell-765b5c73faaab7c6",
     "locked": true,
     "schema_version": 1,
     "solution": false
    }
   },
   "source": [
    "### 1. \n",
    "\n",
    "Créez un objet de type `parameters` contenant les informations suivantes\n",
    "* `xmin` l'abscisse du bord gauche ($0$ dans notre cas)\n",
    "* `xmax` l'abscisse du bord droit ($1$ dans notre cas)\n",
    "* `Nx` le nombre de points du maillage (à votre convenance mais ne soyez pas trop gourmand dans un premier temps)\n",
    "* `node-centered` qui doit prendre la valeur $1$ de manière à construire un maillage centré sur les noeuds (et pas sur les cellules)\n",
    "\n",
    "### 2. \n",
    "\n",
    "Créez une `lambda`-fonction pour le second membre de l'équation. Ici nous pourrons commencer avec la fonction $f(x) = 1$, $\\forall x\\in[0,1]$."
   ]
  },
  {
   "cell_type": "code",
   "execution_count": 2,
   "metadata": {},
   "outputs": [],
   "source": [
    "double max(std::vector<double> x)\n",
    "{\n",
    "    double maximum =x[0];\n",
    "    for(int i = 1; i<x.size();i++)\n",
    "    {\n",
    "        if(x[i]>maximum)\n",
    "        {maximum = x[i];}\n",
    "    }\n",
    "    \n",
    "    return maximum;\n",
    "}\n",
    "\n",
    "\n",
    "\n"
   ]
  },
  {
   "cell_type": "code",
   "execution_count": 3,
   "metadata": {},
   "outputs": [],
   "source": [
    "double max_ab(double a, double b)\n",
    "{\n",
    "    if(a>b)\n",
    "    {return a;}\n",
    "    else {return b;}\n",
    "}"
   ]
  },
  {
   "cell_type": "code",
   "execution_count": 4,
   "metadata": {},
   "outputs": [],
   "source": [
    "double aL = (rand()/(double)RAND_MAX ) * (5.0-0) + 0; // Nmbre aléa entre 0 et 2\n",
    "double aR = (rand()/(double)RAND_MAX ) * (1.5-0) + 0 ;\n",
    "double x0 = (rand()/(double)RAND_MAX ) * (0.7-0.3) + 0.3;\n",
    "double ld = 0;"
   ]
  },
  {
   "cell_type": "code",
   "execution_count": 5,
   "metadata": {
    "nbgrader": {
     "grade": true,
     "grade_id": "cell-d90641b4c2addd9b",
     "locked": false,
     "points": 0,
     "schema_version": 1,
     "solution": true
    }
   },
   "outputs": [],
   "source": [
    "/*On proportionne notre maillage pour que le pas de temps sur l'intervalle [0,x0] soit \n",
    "proche de celui de l'intervalle [x0,1]*/\n",
    "\n",
    "int N3=256;\n",
    "int Nx1=int(N3*x0)+1;\n",
    "int Nx2=N3-Nx1+1;\n",
    "\n",
    "parameters p = {\n",
    "    {\"xmin\",0.},\n",
    "    {\"xmax\",x0},\n",
    "    {\"Nx\",Nx1},\n",
    "    {\"cell-centered\",1}\n",
    "};\n",
    "\n",
    "parameters p2 = {\n",
    "    {\"xmin\",x0},\n",
    "    {\"xmax\",1.},\n",
    "    {\"Nx\",Nx2},\n",
    "    {\"cell-centered\",1}\n",
    "};\n"
   ]
  },
  {
   "cell_type": "code",
   "execution_count": 6,
   "metadata": {},
   "outputs": [],
   "source": [
    "double f(double x ) {return 1.;}"
   ]
  },
  {
   "cell_type": "markdown",
   "metadata": {},
   "source": [
    "On prend f = 1, d'où :\n",
    "------------\n",
    "------------\n",
    "\n",
    "\\begin{equation}\n",
    "u_1(x) = -\\frac{x²}{2a_L} + x(\\frac{λ}{x_0}+\\frac{x_0}{2a_L})  \n",
    "\\end{equation}\n",
    "\n",
    "--------------------------------\n",
    "-------------------------------\n",
    "\n",
    "\n",
    "\\begin{equation}\n",
    "u_2(x) = -\\frac{x²}{2a_R} + x(\\frac{λ}{x_0-1} - \\frac{x_0 + 1}{2a_R}) - \\frac{x_0}{2a_R} - \\frac{λ}{x_0 -1}\n",
    "\\end{equation}\n",
    "\n",
    "---------------------\n",
    "---------------------"
   ]
  },
  {
   "cell_type": "code",
   "execution_count": 7,
   "metadata": {},
   "outputs": [],
   "source": [
    "double u0=(x0-1)/(2*(aL-aR-(aL/x0)));"
   ]
  },
  {
   "cell_type": "code",
   "execution_count": 8,
   "metadata": {
    "nbgrader": {
     "grade": true,
     "grade_id": "cell-2cac1048f664cd78",
     "locked": false,
     "points": 0,
     "schema_version": 1,
     "solution": true
    }
   },
   "outputs": [],
   "source": [
    "// Solution pour u1\n",
    "\n",
    "std::vector<double> sol(std::vector<double> x)  \n",
    "{\n",
    "    std::vector<double> y(x.size());\n",
    "    for(int k = 0; k < x.size(); k++){\n",
    "        y[k] = -(x[k]*x[k])*(0.5/aL) + x[k]*(u0/x0 + 0.5*x0/aL);\n",
    "    }\n",
    "    return y;\n",
    "}\n",
    "\n"
   ]
  },
  {
   "cell_type": "code",
   "execution_count": 9,
   "metadata": {},
   "outputs": [],
   "source": [
    "// Solution pour u2\n",
    "std::vector<double> sol2(std::vector<double> x)  \n",
    "{\n",
    "    std::vector<double> y(x.size());\n",
    "    for(int k = 0; k < x.size(); k++){\n",
    "        y[k] = -(x[k]*x[k])*(0.5/aR) + x[k]*(u0/(x0 -1) + 0.5*(x0+1)/aR) - 0.5*x0/aR - u0/(x0-1);\n",
    "    }\n",
    "    return y;\n",
    "}"
   ]
  },
  {
   "cell_type": "markdown",
   "metadata": {
    "nbgrader": {
     "grade": false,
     "grade_id": "cell-f52b69211e853da0",
     "locked": true,
     "schema_version": 1,
     "solution": false
    }
   },
   "source": [
    "###  4.  \n",
    "\n",
    "* Nous fabriquons tous les éléments du problème : \n",
    "    * les solutions $S_1$ et $S_2$ (objet de type `solution1D`) à partir des paramètres,\n",
    "    * la matrice $A$ du Laplacien dont la taille est $N{\\times}N$ avec $N=N_x-2$ où $N_x$ est le nombre de points du maillage comprenant les deux points de bord, \n",
    "    * le second membre $F$ qui doit être un `vector` de taille $N$ également ;\n",
    "* Nous résolvons le système linéaire en utilisant la décomposition $LU$ de la matrice $A$. Le vecteur `u_in` obtenu est un vecteur de taille $N$ ;\n",
    "* copiez les valeurs de `u_in` à leur place dans le vecteur `S.u` qui est de taille $N_x=N+2$."
   ]
  },
  {
   "cell_type": "code",
   "execution_count": 10,
   "metadata": {
    "nbgrader": {
     "grade": true,
     "grade_id": "cell-826e43fb674fb9ac",
     "locked": false,
     "points": 0,
     "schema_version": 1,
     "solution": true
    }
   },
   "outputs": [],
   "source": [
    "solution1D S(p);\n",
    "solution1D S2(p2);\n",
    "\n",
    "auto N = S.m.Nx - 2 ;\n",
    "auto N1 = S.m.Nx - 2 ;\n",
    "auto N2 = S2.m.Nx - 2 ;\n",
    "auto Nx = S.m.Nx+S2.m.Nx-1;\n",
    "auto invh = (N1+1)/x0;\n",
    "matrix A11 = 2 * identity(N1,N1) - identity(N1,N1,1) - identity(N1,N1,-1);\n",
    "\n",
    "matrix A1 = aL * invh*invh* A11;\n",
    "\n",
    "std::vector<double> F(N1);\n",
    "std::transform(std::next(S.m.x.begin()),std::prev(S.m.x.end()),F.begin(),f);\n",
    "F[N1-1] += aL*ld*invh*invh;\n",
    "\n",
    "matrix LU1 = lu(A1);\n",
    "\n",
    "std::vector<double> sol_n = solve_lu(LU1,F);\n",
    "for(int k = 1 ; k<S.u.size() - 1;++k)\n",
    "    S.u[k] = sol_n[k-1];\n",
    "\n",
    "S.u[N1+1] = ld;\n",
    "\n",
    "\n",
    "std::vector<double> F2(N2);\n",
    "\n",
    "auto invh2 = (N2+1)/(1-x0);\n",
    "std::transform(std::next(S2.m.x.begin()),std::prev(S2.m.x.end()),F2.begin(),f);\n",
    "F2[0] += aR*ld*invh2*invh2;\n",
    "\n",
    "\n",
    "matrix A22 = 2 * identity(N2,N2) - identity(N2,N2,1) - identity(N2,N2,-1);\n",
    "matrix A2 = A22*aR*invh2*invh2;\n",
    "matrix LU2 = lu(A2);\n",
    "std::vector<double> sol2_n = solve_lu(LU2,F2);\n",
    "for(int k = 1 ; k<S2.u.size() - 1;++k)\n",
    "    S2.u[k] = sol2_n[k-1];\n",
    "S2.u[0] = ld;\n"
   ]
  },
  {
   "cell_type": "markdown",
   "metadata": {},
   "source": [
    "# ici nous résolvons numeriquement les équations suivantes\n",
    "\\begin{equation}\n",
    "\\left\\lbrace\n",
    "\\begin{aligned}\n",
    "-a_L * S_1''(x) = f(x),&&0<x<x_0,\\\\\n",
    "S_1(0)=0,  \\\\\n",
    "S_1(x_0) =0\n",
    "\\end{aligned}\n",
    "\\right.\n",
    "\\end{equation}\n",
    "et\n",
    "\\begin{equation}\n",
    "\\left\\lbrace\n",
    "\\begin{aligned}\n",
    "-a_R * S_2''(x) = f(x),&&x_0<x<1,\\\\\n",
    "S_2(x_0)=0,  \\\\\n",
    "S_2(1) =0\n",
    "\\end{aligned}\n",
    "\\right.\n",
    "\\end{equation}"
   ]
  },
  {
   "cell_type": "code",
   "execution_count": 11,
   "metadata": {
    "nbgrader": {
     "grade": true,
     "grade_id": "cell-1a2949ba0e068aec",
     "locked": false,
     "points": 0,
     "schema_version": 1,
     "solution": true
    },
    "scrolled": false
   },
   "outputs": [
    {
     "data": {
      "application/vnd.jupyter.widget-view+json": {
       "model_id": "9fa936d3ff5c4909b548177b31ddfdd1",
       "version_major": 2,
       "version_minor": 0
      },
      "text/plain": [
       "A Jupyter widget"
      ]
     },
     "metadata": {},
     "output_type": "display_data"
    },
    {
     "name": "stdout",
     "output_type": "stream",
     "text": [
      "1.98397"
     ]
    }
   ],
   "source": [
    "xpl::linear_scale sx, sy, sx2,sy2;\n",
    "sx.min = p[\"xmin\"], sx.max = p2[\"xmax\"];\n",
    "sx2.min = p[\"xmin\"], sx2.max = p2[\"xmax\"];\n",
    "sy.min = 0., sy.max = max_ab(max(S.u),max(S2.u));\n",
    "\n",
    "// fine mesh for the exact solution\n",
    "auto NN = 1025;\n",
    "double dx = x0/(NN-1);\n",
    "std::vector<double> xx(NN);\n",
    "for (auto i=0; i<NN; ++i)\n",
    "    xx[i] = i*dx;\n",
    "\n",
    "double dx2 = (1-x0)/(NN-1);\n",
    "std::vector<double> xx2(NN);\n",
    "for (auto i=0; i<NN; ++i)\n",
    "    xx2[i] = x0+i*dx2;\n",
    "\n",
    "auto ax_x = xpl::axis_generator(sx)\n",
    "    .label(\"x\")\n",
    "    .finalize();\n",
    "auto ax_y = xpl::axis_generator(sy)\n",
    "    .orientation(\"vertical\")\n",
    "    .side(\"left\")\n",
    "    .finalize();\n",
    "\n",
    "auto line = xpl::lines_generator(sx, sy)\n",
    "    .x(xx)\n",
    "    .y(sol(xx))\n",
    "    .colors(std::vector<std::string>({\"red\"}))\n",
    "    .labels(std::vector<std::string>({\"exact\"}))\n",
    "    .display_legend(true)\n",
    "    .finalize();\n",
    "\n",
    "auto line2 = xpl::lines_generator(sx2, sy)\n",
    "    .x(xx2)\n",
    "    .y(sol2(xx2))\n",
    "    .colors(std::vector<std::string>({\"orange\"}))\n",
    "    .labels(std::vector<std::string>({\"exact 2\"}))\n",
    "    .display_legend(true)\n",
    "    .finalize();\n",
    "\n",
    "\n",
    "auto scatter = xpl::scatter_generator(sx, sy)\n",
    "    .x(S.m.x)\n",
    "    .y(S.u)\n",
    "    .colors(std::vector<xtl::xoptional<std::string>>{\"navy\"})\n",
    "    .labels(std::vector<std::string>({\"S1\"}))\n",
    "    .display_legend(true)\n",
    "    .marker(\"circle\")\n",
    "    .finalize();\n",
    "\n",
    "auto scatter2 = xpl::scatter_generator(sx2, sy)\n",
    "    .x(S2.m.x)\n",
    "    .y(S2.u)\n",
    "    .colors(std::vector<xtl::xoptional<std::string>>{\"green\"})\n",
    "    .labels(std::vector<std::string>({\"S2\"}))\n",
    "    .display_legend(true)\n",
    "    .marker(\"circle\")\n",
    "    .finalize();\n",
    "\n",
    "auto fig = xpl::figure_generator()\n",
    "    .padding_x(0.025)\n",
    "    .padding_y(0.1)\n",
    "    .title(\"solution with N = \" + std::to_string(S.m.Nx+S2.m.Nx-1))\n",
    "    .legend_location(\"top-left\")\n",
    "    .finalize();\n",
    "\n",
    "\n",
    "std::cout<<aL*(S.u[S.u.size()-2]-S.u[S.u.size()-1])/dx;\n",
    "\n",
    "\n",
    "\n",
    "fig.add_mark(scatter);\n",
    "fig.add_mark(scatter2);\n",
    "fig.add_mark(line);\n",
    "fig.add_mark(line2);\n",
    "fig.add_axis(ax_x);\n",
    "fig.add_axis(ax_y);\n",
    "fig.display();\n",
    "\n",
    "// ---------------------- //\n"
   ]
  },
  {
   "cell_type": "markdown",
   "metadata": {},
   "source": [
    "ici $S_1$ et $S_2$ sont solutions réspectivement de :\n",
    "$$\n",
    "\\begin{equation}\n",
    "\\left\\lbrace\n",
    "\\begin{aligned}\n",
    "-a_L * S_1''(x) = f(x),&&0<x<x_0,\\\\\n",
    "S_1(0)=0,  \\\\\n",
    "S_1(x_0)= 0 \\\\\n",
    "\\end{aligned}\n",
    "\\right.\n",
    "\\end{equation}\n",
    "$$\n",
    "et\n",
    "$$\n",
    "\\begin{equation}\n",
    "\\left\\lbrace\n",
    "\\begin{aligned}\n",
    "-a_R * S_2''(x) = f(x),&&x_0<x<1,\\\\\n",
    "S_2(x_0)=0, \\\\\n",
    "S_2(1)=0  \\\\\n",
    "\\end{aligned}\n",
    "\\right.\n",
    "\\end{equation}\n",
    "$$"
   ]
  },
  {
   "cell_type": "code",
   "execution_count": 12,
   "metadata": {},
   "outputs": [
    {
     "name": "stdout",
     "output_type": "stream",
     "text": [
      "x0 = 0.453401\n",
      "aL = 3.39648\n",
      "aR = 1.40204\n"
     ]
    }
   ],
   "source": [
    "std::cout<< \"x0 = \" << x0 << std::endl;\n",
    "std::cout<< \"aL = \" << aL << std::endl;\n",
    "std::cout<< \"aR = \" << aR << std::endl;"
   ]
  },
  {
   "cell_type": "markdown",
   "metadata": {},
   "source": [
    "### Estimation de u0\n",
    "\n",
    "On a trouver que : $$ aR*u'(x_0^+) =aL*u'(x_0^-) .$$\n",
    "\n",
    "De plus on sait que : $$ u'(x_0^+)=S_2'(x_0^+)- \\frac{u_0}{1-x_0} $$\n",
    "et : $$ u'(x_0^-)=S_1'(x_0^-)+ \\frac{u_0}{x_0} $$\n",
    "on en déduit que :\n",
    "$$ u_0=\\frac {a_R S_2'(x_0^+)-a_L S_1'(x_0^-)}{\\frac{a_L}{x_0}+\\frac{a_R}{1-x_0}} $$\n",
    "on estime $S_1'(x_0^-)$ et $S_2'(x_0^+)$ de la maniere suivante :\n",
    "$$S_1'(x_0^-)=\\frac {S_1(x_0)-S_1(x_0-\\Delta_x)}{\\Delta_x}$$\n",
    "$$S_2'(x_0^+)=\\frac {S_2(x_0+\\Delta_x)-S_2(x_0)}{\\Delta_x}$$\n"
   ]
  },
  {
   "cell_type": "code",
   "execution_count": 13,
   "metadata": {},
   "outputs": [
    {
     "name": "stdout",
     "output_type": "stream",
     "text": [
      "0.0497208//0.049331\n"
     ]
    }
   ],
   "source": [
    "//estimation de u0\n",
    "double S1P=(S.u[S.u.size()-1]-S.u[S.u.size()-2])*invh;\n",
    "double S2P=(S2.u[1]-S2.u[0])*invh2;\n",
    "double u02=(aR*S2P-aL*S1P)/(aL/x0+aR/(1-x0));\n",
    "\n",
    "//On peut constater la bonne estimation de u0\n",
    "std::cout<<u0<<\"//\"<<u02<<std::endl;"
   ]
  },
  {
   "cell_type": "markdown",
   "metadata": {},
   "source": [
    "on cherche $u_1$ et $u_2$ solutions de :\n",
    "$$\n",
    "\\begin{equation}\n",
    "\\left\\lbrace\n",
    "\\begin{aligned}\n",
    "-a_L * u_1''(x) = f(x),&&0<x<x_0,\\\\\n",
    "u_1(0)=0,  \\\\\n",
    "u_1(x_0)=u_0 \\\\\n",
    "\\end{aligned}\n",
    "\\right.\n",
    "\\end{equation}\n",
    "$$\n",
    "et\n",
    "$$\n",
    "\\begin{equation}\n",
    "\\left\\lbrace\n",
    "\\begin{aligned}\n",
    "-a_R * u_2''(x) = f(x),&&x_0<x<1,\\\\\n",
    "u_2(x_0)=u_0 \\\\\n",
    "u_2(1)=0,  \\\\\n",
    "\\end{aligned}\n",
    "\\right.\n",
    "\\end{equation}\n",
    "$$"
   ]
  },
  {
   "cell_type": "code",
   "execution_count": 14,
   "metadata": {},
   "outputs": [],
   "source": [
    "//retranchement (on ajoute les fonctions affines a S1 et S2) des solutions avec u0=0 aux solutions exactes avec u0=u(x0)\n",
    "\n",
    "for(int k = 0 ; k<S.u.size(); ++k){\n",
    "    S.u[k] = S.u[k]+u02/x0*x0*k/S.u.size(); \n",
    "}\n",
    "for(double k = 0; k<S2.u.size(); ++k){\n",
    "    S2.u[k] = S2.u[k]+(1-x0-(k+1)/S2.u.size()*(1-x0))/(1-x0)*u02;\n",
    "}\n"
   ]
  },
  {
   "cell_type": "code",
   "execution_count": 15,
   "metadata": {},
   "outputs": [
    {
     "data": {
      "application/vnd.jupyter.widget-view+json": {
       "model_id": "661350894eef4f07a7700893adbd930a",
       "version_major": 2,
       "version_minor": 0
      },
      "text/plain": [
       "A Jupyter widget"
      ]
     },
     "metadata": {},
     "output_type": "display_data"
    },
    {
     "name": "stdout",
     "output_type": "stream",
     "text": [
      "-1.25034"
     ]
    }
   ],
   "source": [
    "\n",
    "sx.min = p[\"xmin\"], sx.max = p2[\"xmax\"];\n",
    "sx2.min = p[\"xmin\"], sx2.max = p2[\"xmax\"];\n",
    "sy.min = 0., sy.max = max_ab(max(S.u),max(S2.u));\n",
    "\n",
    "\n",
    "auto scatter3 = xpl::scatter_generator(sx, sy)\n",
    "    .x(S.m.x)\n",
    "    .y(S.u)\n",
    "    .colors(std::vector<xtl::xoptional<std::string>>{\"navy\"})\n",
    "    .labels(std::vector<std::string>({\"numeric\"}))\n",
    "    .display_legend(true)\n",
    "    .marker(\"circle\")\n",
    "    .finalize();\n",
    "\n",
    "auto scatter4 = xpl::scatter_generator(sx2, sy)\n",
    "    .x(S2.m.x)\n",
    "    .y(S2.u)\n",
    "    .colors(std::vector<xtl::xoptional<std::string>>{\"green\"})\n",
    "    .labels(std::vector<std::string>({\"numeric 2\"}))\n",
    "    .display_legend(true)\n",
    "    .marker(\"circle\")\n",
    "    .finalize();\n",
    "\n",
    "auto fig2 = xpl::figure_generator()\n",
    "    .padding_x(0.025)\n",
    "    .padding_y(0.1)\n",
    "    .title(\"solution with N = \" + std::to_string(S.m.Nx+S2.m.Nx-1))\n",
    "    .legend_location(\"top-left\")\n",
    "    .finalize();\n",
    "\n",
    "\n",
    "\n",
    "std::cout<<aL*(S.u[S.u.size()-2]-S.u[S.u.size()-1])/dx;\n",
    "\n",
    "\n",
    "\n",
    "fig2.add_mark(scatter3);\n",
    "fig2.add_mark(scatter4);\n",
    "fig2.add_mark(line);\n",
    "fig2.add_mark(line2);\n",
    "fig2.add_axis(ax_x);\n",
    "fig2.add_axis(ax_y);\n",
    "fig2.display();\n",
    "\n",
    "// ---------------------- //\n"
   ]
  }
 ],
 "metadata": {
  "celltoolbar": "Create Assignment",
  "kernelspec": {
   "display_name": "C++14",
   "language": "C++14",
   "name": "xeus-cling-cpp14"
  },
  "language_info": {
   "codemirror_mode": "text/x-c++src",
   "file_extension": ".cpp",
   "mimetype": "text/x-c++src",
   "name": "c++",
   "version": "14"
  }
 },
 "nbformat": 4,
 "nbformat_minor": 2
}
