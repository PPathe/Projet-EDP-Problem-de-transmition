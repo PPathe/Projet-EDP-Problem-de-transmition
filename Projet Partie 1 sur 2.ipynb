{
 "cells": [
  {
   "cell_type": "markdown",
   "metadata": {
    "nbgrader": {
     "grade": false,
     "grade_id": "cell-49c5f4f2a09b6c76",
     "locked": true,
     "schema_version": 1,
     "solution": false
    }
   },
   "source": [
    "# Projet, f = 1. : Partie 1/2\n",
    "\n",
    "Considérons le problème de elliptique suivant : nous cherchons une fonction $u:[0,1]\\to\\mathbb{R}$ qui vérifie le problème\n",
    "\\begin{equation}\n",
    "\\left\\lbrace\n",
    "\\begin{aligned}\n",
    "-aL * u1''(x) = f(x),&&0<x<x0,\\\\\n",
    "-aR * u2''(x) = f(x),&&x0<x<1 \\\\\n",
    "&u(0)=u(1)=0,  \\\\\n",
    "u(x0) = Eps = 0 && noté && E && pour && l'instant\n",
    "\\end{aligned}\n",
    "\\right.\n",
    "\\end{equation}\n",
    "où $f:[0,1]\\to\\mathbb{R}$ est une fonction régulière (par exemple continue).\n",
    "\n",
    "Ce problème peut se résoudre directement. La solution est donnée par la formule\n",
    "\\begin{equation}\n",
    "u1(x) = x \\int_0^E \\int_0^t f(s) \\, \\operatorname{d}\\!s \\, \\operatorname{d}\\!t - \\int_0^x \\int_0^t f(s) \\, \\operatorname{d}\\!s \\, \\operatorname{d}\\!t . \n",
    "\\end{equation}\n",
    "\n",
    "\\begin{equation}\n",
    "u2(x) = x \\int_E^1 \\int_0^t f(s) \\, \\operatorname{d}\\!s \\, \\operatorname{d}\\!t - \\int_0^x \\int_0^t f(s) \\, \\operatorname{d}\\!s \\, \\operatorname{d}\\!t . \n",
    "\\end{equation}\n",
    "\n"
   ]
  },
  {
   "cell_type": "code",
   "execution_count": 1,
   "metadata": {},
   "outputs": [],
   "source": [
    "#include <iostream>\n",
    "#include <vector>\n",
    "#include <stdexcept>\n",
    "\n",
    "#include \"xplot/xfigure.hpp\"\n",
    "#include \"xplot/xmarks.hpp\"\n",
    "#include \"xplot/xaxes.hpp\"\n",
    "\n",
    "#include \"mesh1D.hpp\"\n",
    "#include \"solution1D.hpp\"\n",
    "#include \"matrix.hpp\"\n",
    "#include \"lu.hpp\""
   ]
  },
  {
   "cell_type": "markdown",
   "metadata": {
    "nbgrader": {
     "grade": false,
     "grade_id": "cell-765b5c73faaab7c6",
     "locked": true,
     "schema_version": 1,
     "solution": false
    }
   },
   "source": [
    "###  1.  \n",
    "\n",
    "Créez un objet de type `parameters` contenant les informations suivantes\n",
    "* `xmin` l'abscisse du bord gauche ($0$ dans notre cas)\n",
    "* `xmax` l'abscisse du bord droit ($1$ dans notre cas)\n",
    "* `Nx` le nombre de points du maillage (à votre convenance mais ne soyez pas trop gourmand dans un premier temps)\n",
    "* `node-centered` qui doit prendre la valeur $1$ de manière à construire un maillage centré sur les noeuds (et pas sur les cellules)\n",
    "\n",
    "###  2.  \n",
    "\n",
    "Créez une `lambda`-fonction pour le second membre de l'équation. Ici nous pourrons commencer avec la fonction $f(x) = 1$, $\\forall x\\in[0,1]$."
   ]
  },
  {
   "cell_type": "code",
   "execution_count": 2,
   "metadata": {},
   "outputs": [],
   "source": [
    "double max(std::vector<double> x)\n",
    "{\n",
    "    double maximum =x[0];\n",
    "    for(int i = 1; i<x.size();i++)\n",
    "    {\n",
    "        if(x[i]>maximum)\n",
    "        {maximum = x[i];}\n",
    "    }\n",
    "    \n",
    "    return maximum;\n",
    "}\n",
    "\n"
   ]
  },
  {
   "cell_type": "code",
   "execution_count": 3,
   "metadata": {},
   "outputs": [],
   "source": [
    "double max_ab(double a, double b)\n",
    "{\n",
    "    if(a>b)\n",
    "    {return a;}\n",
    "    else {return b;}\n",
    "}"
   ]
  },
  {
   "cell_type": "code",
   "execution_count": 4,
   "metadata": {},
   "outputs": [],
   "source": [
    "double aL = (rand()/(double)RAND_MAX ) * (5-0) + 0; // Nmbre aléa entre 0 et 5\n",
    "double aR = (rand()/(double)RAND_MAX ) * (1.5-0) + 0 ;\n",
    "double x0 = (rand()/(double)RAND_MAX )*(0.7-0.3) + 0.3;\n",
    "double ld = (x0-1)/(2*(aL-aR-(aL/x0)))"
   ]
  },
  {
   "cell_type": "code",
   "execution_count": 5,
   "metadata": {},
   "outputs": [
    {
     "name": "stdout",
     "output_type": "stream",
     "text": [
      "0.0497208\n"
     ]
    }
   ],
   "source": [
    "std::cout<< ld << std::endl ;"
   ]
  },
  {
   "cell_type": "code",
   "execution_count": 6,
   "metadata": {
    "nbgrader": {
     "grade": true,
     "grade_id": "cell-d90641b4c2addd9b",
     "locked": false,
     "points": 0,
     "schema_version": 1,
     "solution": true
    }
   },
   "outputs": [],
   "source": [
    "parameters p = {\n",
    "    {\"xmin\",0.},\n",
    "    {\"xmax\",x0},\n",
    "    {\"Nx\",32},\n",
    "    {\"cell-centered\",1}\n",
    "};\n",
    "\n",
    "parameters p2 = {\n",
    "    {\"xmin\",x0},\n",
    "    {\"xmax\",1.},\n",
    "    {\"Nx\",32},\n",
    "    {\"cell-centered\",1}\n",
    "};\n"
   ]
  },
  {
   "cell_type": "code",
   "execution_count": 7,
   "metadata": {},
   "outputs": [],
   "source": [
    "double f(double x ) {return 1.;}"
   ]
  },
  {
   "cell_type": "markdown",
   "metadata": {
    "nbgrader": {
     "grade": false,
     "grade_id": "cell-545f0f9955166a6c",
     "locked": true,
     "schema_version": 1,
     "solution": false
    }
   },
   "source": [
    "###  3.  \n",
    "\n",
    "Dans le cas où $f(x)=1$, la solution évidente du problème s'écrit\n",
    "$$ u(x) = \\frac{1}{2} x(1-x).$$\n",
    "\n",
    "Créez une fonction qui prend en argument $x$ un vecteur de `double` et qui retourne $y$ un vecteur de même taille tel que \n",
    "$$ y_k = u(x_k) .$$"
   ]
  },
  {
   "cell_type": "markdown",
   "metadata": {},
   "source": [
    "On prend f = 1, d'où :\n",
    "------------\n",
    "------------\n",
    "\n",
    "\\begin{equation}\n",
    "u1(x) = -\\frac{x²}{2aL} + x(\\frac{λ}{x0}+\\frac{x0}{2aL})  \n",
    "\\end{equation}\n",
    "\n",
    "--------------------------------\n",
    "-------------------------------\n",
    "\n",
    "\n",
    "\\begin{equation}\n",
    "u2(x) = -\\frac{x²}{2aR} + x(\\frac{λ}{x0-1} - \\frac{x0 + 1}{2aR}) - \\frac{x0}{2aR} - \\frac{λ}{x0 -1}\n",
    "\\end{equation}\n",
    "\n",
    "---------------------\n",
    "---------------------"
   ]
  },
  {
   "cell_type": "code",
   "execution_count": null,
   "metadata": {},
   "outputs": [],
   "source": []
  },
  {
   "cell_type": "code",
   "execution_count": 8,
   "metadata": {
    "nbgrader": {
     "grade": true,
     "grade_id": "cell-2cac1048f664cd78",
     "locked": false,
     "points": 0,
     "schema_version": 1,
     "solution": true
    }
   },
   "outputs": [],
   "source": [
    "// Solution pour u1\n",
    "std::vector<double> sol(std::vector<double> x)  \n",
    "{\n",
    "    std::vector<double> y(x.size());\n",
    "    for(int k = 0; k < x.size(); k++){\n",
    "        y[k] = -(x[k]*x[k])*(0.5/aL) + x[k]*(ld/x0 + 0.5*x0/aL);\n",
    "    }\n",
    "    return y;\n",
    "}\n",
    "\n"
   ]
  },
  {
   "cell_type": "code",
   "execution_count": 9,
   "metadata": {},
   "outputs": [],
   "source": [
    "// Solution pour u2\n",
    "std::vector<double> sol2(std::vector<double> x)  \n",
    "{\n",
    "    std::vector<double> y(x.size());\n",
    "    for(int k = 0; k < x.size(); k++){\n",
    "        y[k] = -(x[k]*x[k])*(0.5/aR) + x[k]*(ld/(x0 -1) + 0.5*(x0+1)/aR) - 0.5*x0/aR - ld/(x0-1);\n",
    "    }\n",
    "    return y;\n",
    "}"
   ]
  },
  {
   "cell_type": "markdown",
   "metadata": {
    "nbgrader": {
     "grade": false,
     "grade_id": "cell-f52b69211e853da0",
     "locked": true,
     "schema_version": 1,
     "solution": false
    }
   },
   "source": [
    "###  4.  \n",
    "\n",
    "* Fabriquez tous les éléments du problème : \n",
    "    * les solution `S1` et `S1` (objet de type `solution1D`) à partir des paramètres,\n",
    "    * la matrice $A$ du Laplacien dont la taille est $N{\\times}N$ avec $N=N_x-2$ où $N_x$ est le nombre de points du maillage comprenant les deux points de bord, \n",
    "    * le second membre $F$ qui doit être un `vector` de taille $N$ également ;\n",
    "* résolvez le système linéaire $Au=F$ en utilisant la décomposition $LU$ de la matrice $A$. Le vecteur `u_in` obtenu est un vecteur de taille $N$ ;\n",
    "* copiez les valeurs de `u_in` à leur place dans le vecteur `S.u` qui est de taille $N_x=N+2$."
   ]
  },
  {
   "cell_type": "code",
   "execution_count": 10,
   "metadata": {
    "nbgrader": {
     "grade": true,
     "grade_id": "cell-826e43fb674fb9ac",
     "locked": false,
     "points": 0,
     "schema_version": 1,
     "solution": true
    }
   },
   "outputs": [],
   "source": [
    "solution1D S(p);\n",
    "auto N = S.m.Nx - 2 ;\n",
    "auto Nx = S.m.Nx;\n",
    "auto invh = (N+1)/x0;\n",
    "matrix A = 2 * identity(N,N) - identity(N,N,1) - identity(N,N,-1);\n",
    "\n",
    "matrix A1 = aL * invh*invh* A;\n",
    "\n",
    "std::vector<double> F(N);\n",
    "std::transform(std::next(S.m.x.begin()),std::prev(S.m.x.end()),F.begin(),f);\n",
    "F[N-1] += aL*ld*invh*invh;\n",
    "\n",
    "matrix LU1 = lu(A1);\n",
    "\n",
    "std::vector<double> sol_n = solve_lu(LU1,F);\n",
    "for(int k = 1 ; k<S.u.size() - 1;++k)\n",
    "    S.u[k] = sol_n[k-1];\n",
    "\n",
    "S.u[Nx-1] = ld;\n"
   ]
  },
  {
   "cell_type": "code",
   "execution_count": 11,
   "metadata": {},
   "outputs": [],
   "source": [
    "solution1D S2(p2);\n",
    "\n",
    "\n",
    "std::vector<double> F2(N);\n",
    "\n",
    "auto invh2 = (N+1)/(1-x0);\n",
    "std::transform(std::next(S2.m.x.begin()),std::prev(S2.m.x.end()),F2.begin(),f);\n",
    "F2[0] += aR*ld*invh2*invh2;\n",
    "\n",
    "matrix A2 = A*aR*invh2*invh2;\n",
    "matrix LU2 = lu(A2);\n",
    "std::vector<double> sol2_n = solve_lu(LU2,F2);\n",
    "for(int k = 1 ; k<S.u.size() - 1;++k)\n",
    "    S2.u[k] = sol2_n[k-1];\n",
    "S2.u[0] = ld;"
   ]
  },
  {
   "cell_type": "code",
   "execution_count": null,
   "metadata": {},
   "outputs": [],
   "source": []
  },
  {
   "cell_type": "markdown",
   "metadata": {
    "nbgrader": {
     "grade": false,
     "grade_id": "cell-1f1302b3c2bf5d65",
     "locked": true,
     "schema_version": 1,
     "solution": false
    }
   },
   "source": [
    "###  5.  \n",
    "\n",
    "Affichez le résultat obtenu et comparez le avec la solution exacte.\n",
    "Essayez d'obtenir un graphique semblable à celui-ci.\n",
    "\n",
    "<img src=\"img/TP02_Laplacien.png\", width='75%'>"
   ]
  },
  {
   "cell_type": "code",
   "execution_count": 12,
   "metadata": {},
   "outputs": [],
   "source": [
    "double maxi1 = max(S.u);\n",
    "double maxi2 = max(S2.u);\n",
    "double maximax = max_ab(max(S.u),max(S2.u));"
   ]
  },
  {
   "cell_type": "code",
   "execution_count": 13,
   "metadata": {
    "nbgrader": {
     "grade": true,
     "grade_id": "cell-1a2949ba0e068aec",
     "locked": false,
     "points": 0,
     "schema_version": 1,
     "solution": true
    },
    "scrolled": false
   },
   "outputs": [
    {
     "data": {
      "application/vnd.jupyter.widget-view+json": {
       "model_id": "beab7340c52a408295a0bdffee86dad9",
       "version_major": 2,
       "version_minor": 0
      },
      "text/plain": [
       "A Jupyter widget"
      ]
     },
     "metadata": {},
     "output_type": "display_data"
    }
   ],
   "source": [
    "xpl::linear_scale sx, sy, sx2,sy2;\n",
    "sx.min = p[\"xmin\"], sx.max = p2[\"xmax\"];\n",
    "sx2.min = p[\"xmin\"], sx2.max = p2[\"xmax\"];\n",
    "sy.min = 0., sy.max = maximax;\n",
    "\n",
    "// fine mesh for the exact solution\n",
    "auto NN = 1025;\n",
    "double dx = x0/(NN-1);\n",
    "std::vector<double> xx(NN);\n",
    "for (auto i=0; i<NN; ++i)\n",
    "    xx[i] = i*dx;\n",
    "\n",
    "double dx2 = (1-x0)/(NN-1);\n",
    "std::vector<double> xx2(NN);\n",
    "for (auto i=0; i<NN; ++i)\n",
    "    xx2[i] = x0+i*dx2;\n",
    "\n",
    "auto ax_x = xpl::axis_generator(sx)\n",
    "    .label(\"x\")\n",
    "    .finalize();\n",
    "auto ax_y = xpl::axis_generator(sy)\n",
    "    .orientation(\"vertical\")\n",
    "    .side(\"left\")\n",
    "    .finalize();\n",
    "\n",
    "\n",
    "auto line = xpl::lines_generator(sx, sy)\n",
    "    .x(xx)\n",
    "    .y(sol(xx))\n",
    "    .colors(std::vector<std::string>({\"red\"}))\n",
    "    .labels(std::vector<std::string>({\"exact\"}))\n",
    "    .display_legend(true)\n",
    "    .finalize();\n",
    "\n",
    "auto line2 = xpl::lines_generator(sx2, sy)\n",
    "    .x(xx2)\n",
    "    .y(sol2(xx2))\n",
    "    .colors(std::vector<std::string>({\"orange\"}))\n",
    "    .labels(std::vector<std::string>({\"exact 2\"}))\n",
    "    .display_legend(true)\n",
    "    .finalize();\n",
    "\n",
    "auto scatter = xpl::scatter_generator(sx, sy)\n",
    "    .x(S.m.x)\n",
    "    .y(S.u)\n",
    "    .colors(std::vector<xtl::xoptional<std::string>>{\"navy\"})\n",
    "    .labels(std::vector<std::string>({\"numeric\"}))\n",
    "    .display_legend(true)\n",
    "    .marker(\"circle\")\n",
    "    .finalize();\n",
    "\n",
    "auto scatter2 = xpl::scatter_generator(sx2, sy)\n",
    "    .x(S2.m.x)\n",
    "    .y(S2.u)\n",
    "    .colors(std::vector<xtl::xoptional<std::string>>{\"green\"})\n",
    "    .labels(std::vector<std::string>({\"numeric 2\"}))\n",
    "    .display_legend(true)\n",
    "    .marker(\"circle\")\n",
    "    .finalize();\n",
    "\n",
    "auto fig = xpl::figure_generator()\n",
    "    .padding_x(0.025)\n",
    "    .padding_y(0.1)\n",
    "    .title(\"solution with N = \" + std::to_string(S.m.Nx))\n",
    "    .legend_location(\"top-left\")\n",
    "    .finalize();\n",
    "\n",
    "auto fig2 = xpl::figure_generator()\n",
    "    .padding_x(0.025)\n",
    "    .padding_y(0.1)\n",
    "    .title(\"solution with N = \" + std::to_string(S2.m.Nx))\n",
    "    .legend_location(\"top-left\")\n",
    "    .finalize();\n",
    "\n",
    "\n",
    "\n",
    "fig.add_mark(line);\n",
    "fig.add_mark(line2);\n",
    "fig.add_mark(scatter);\n",
    "fig.add_mark(scatter2);\n",
    "fig.add_axis(ax_x);\n",
    "fig.add_axis(ax_y);\n",
    "fig.display();\n",
    "\n",
    "// ---------------------- //\n"
   ]
  },
  {
   "cell_type": "code",
   "execution_count": 14,
   "metadata": {},
   "outputs": [
    {
     "name": "stdout",
     "output_type": "stream",
     "text": [
      "x0 = 0.453401\n",
      "aL = 3.39648\n",
      "aR = 1.40204\n"
     ]
    }
   ],
   "source": [
    "std::cout<< \"x0 = \" << x0 << std::endl;\n",
    "std::cout<< \"aL = \" << aL << std::endl;\n",
    "std::cout<< \"aR = \" << aR << std::endl;"
   ]
  },
  {
   "cell_type": "code",
   "execution_count": null,
   "metadata": {},
   "outputs": [],
   "source": []
  },
  {
   "cell_type": "code",
   "execution_count": null,
   "metadata": {},
   "outputs": [],
   "source": []
  }
 ],
 "metadata": {
  "celltoolbar": "Create Assignment",
  "kernelspec": {
   "display_name": "C++14",
   "language": "C++14",
   "name": "xeus-cling-cpp14"
  },
  "language_info": {
   "codemirror_mode": "text/x-c++src",
   "file_extension": ".cpp",
   "mimetype": "text/x-c++src",
   "name": "c++",
   "version": "14"
  }
 },
 "nbformat": 4,
 "nbformat_minor": 2
}
